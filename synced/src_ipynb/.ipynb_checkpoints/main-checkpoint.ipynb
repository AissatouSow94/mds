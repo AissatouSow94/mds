{
 "cells": [
  {
   "cell_type": "code",
   "execution_count": 15,
   "id": "b0fc991f-b594-453a-ba50-803a528fc983",
   "metadata": {},
   "outputs": [
    {
     "name": "stdout",
     "output_type": "stream",
     "text": [
      "                                         name                     author  \\\n",
      "0                  Geronimo Stilton #11 & #12  Writtenby:GeronimoStilton   \n",
      "1                            The Burning Maze      Writtenby:RickRiordan   \n",
      "2                                The Deep End       Writtenby:JeffKinney   \n",
      "3                        Daughter of the Deep      Writtenby:RickRiordan   \n",
      "4  The Lightning Thief: Percy Jackson, Book 1      Writtenby:RickRiordan   \n",
      "\n",
      "                    narrator                time releasedate language  \\\n",
      "0      Narratedby:BillLobely   2 hrs and 20 mins    04-08-08  English   \n",
      "1   Narratedby:RobbieDaymond   13 hrs and 8 mins    01-05-18  English   \n",
      "2      Narratedby:DanRussell    2 hrs and 3 mins    06-11-20  English   \n",
      "3  Narratedby:SoneelaNankani  11 hrs and 16 mins    05-10-21  English   \n",
      "4  Narratedby:JesseBernstein              10 hrs    13-01-10  English   \n",
      "\n",
      "                           stars   price  \n",
      "0     5 out of 5 stars34 ratings  468.00  \n",
      "1   4.5 out of 5 stars41 ratings  820.00  \n",
      "2   4.5 out of 5 stars38 ratings  410.00  \n",
      "3   4.5 out of 5 stars12 ratings  615.00  \n",
      "4  4.5 out of 5 stars181 ratings  820.00  \n",
      "(87489, 8)\n",
      "name           object\n",
      "author         object\n",
      "narrator       object\n",
      "time           object\n",
      "releasedate    object\n",
      "language       object\n",
      "stars          object\n",
      "price          object\n",
      "dtype: object\n",
      "name           0\n",
      "author         0\n",
      "narrator       0\n",
      "time           0\n",
      "releasedate    0\n",
      "language       0\n",
      "stars          0\n",
      "price          0\n",
      "dtype: int64\n",
      "0\n"
     ]
    }
   ],
   "source": [
    "import pandas as pd\n",
    "\n",
    "# Chargement avec spécification du séparateur\n",
    "df = pd.read_csv('C:/Users/SOW110579/Documents/mdsNAS/synced/data/raw/audible_uncleaned.csv', sep=',')\n",
    "\n",
    "# Affichage\n",
    "print(df.head())\n",
    "\n",
    "# Nombre de lignes et de colonnes\n",
    "print(df.shape)\n",
    "\n",
    "# Types\n",
    "print(df.dtypes)\n",
    "\n",
    "# Valeurs manquantes\n",
    "print(df.isnull().sum())\n",
    "\n",
    "# Valeurs dupliquées\n",
    "print(df.duplicated().sum())"
   ]
  },
  {
   "cell_type": "code",
   "execution_count": null,
   "id": "ef9d2ef9-693c-45c8-9ebc-327862cae90f",
   "metadata": {},
   "outputs": [],
   "source": []
  }
 ],
 "metadata": {
  "kernelspec": {
   "display_name": "Python 3 (ipykernel)",
   "language": "python",
   "name": "python3"
  },
  "language_info": {
   "codemirror_mode": {
    "name": "ipython",
    "version": 3
   },
   "file_extension": ".py",
   "mimetype": "text/x-python",
   "name": "python",
   "nbconvert_exporter": "python",
   "pygments_lexer": "ipython3",
   "version": "3.12.6"
  }
 },
 "nbformat": 4,
 "nbformat_minor": 5
}
